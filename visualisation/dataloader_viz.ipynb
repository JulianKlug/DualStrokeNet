{
 "cells": [
  {
   "cell_type": "code",
   "execution_count": null,
   "metadata": {
    "collapsed": true,
    "pycharm": {
     "is_executing": true
    }
   },
   "outputs": [
    {
     "name": "stdout",
     "output_type": "stream",
     "text": [
      "(139, 79, 95, 79, 4) (139, 79, 95, 79) (139, 79, 95, 79, 4) (139, 79, 95, 79)\n"
     ]
    }
   ],
   "source": [
    "from data import load_data, generate_loaders\n",
    "\n",
    "tensors = load_data(fname='/Users/julian/standardized_data_set.npz')"
   ]
  },
  {
   "cell_type": "code",
   "execution_count": null,
   "metadata": {
    "pycharm": {
     "is_executing": true,
     "name": "#%%\n"
    }
   },
   "outputs": [],
   "source": [
    "\n",
    "from data import load_data, generate_loaders\n",
    "\n",
    "tensors[2] = tensors[2][:10]\n",
    "tensors[3] = tensors[3][:10]\n",
    "_, mri_sets = generate_loaders(tensors, batch_size=64)"
   ]
  },
  {
   "cell_type": "code",
   "execution_count": 21,
   "metadata": {
    "pycharm": {
     "name": "#%%\n"
    }
   },
   "outputs": [
    {
     "name": "stderr",
     "output_type": "stream",
     "text": [
      "\n",
      "\n",
      "\n",
      "\n",
      "  0%|          | 0/10 [00:00<?, ?it/s]\u001b[A\u001b[A\u001b[A\u001b[A\n",
      "\n",
      "\n",
      "\n",
      "100%|██████████| 10/10 [00:00<00:00, 169.53it/s]\u001b[A\u001b[A\u001b[A\u001b[A"
     ]
    }
   ],
   "source": [
    "from tqdm import tqdm\n",
    "\n",
    "loader = mri_sets['train']\n",
    "list = [(inputs, outputs) for (inputs, outputs) in tqdm(loader)]\n",
    "\n",
    "\n",
    "    \n"
   ]
  },
  {
   "cell_type": "code",
   "execution_count": 32,
   "metadata": {},
   "outputs": [
    {
     "data": {
      "text/plain": [
       "<Figure size 432x4824 with 0 Axes>"
      ]
     },
     "metadata": {},
     "output_type": "display_data"
    }
   ],
   "source": [
    "import matplotlib.pyplot as plt\n",
    "from matplotlib import gridspec\n",
    "\n",
    "plt.switch_backend('agg')\n",
    "ncol = 5\n",
    "nrow = list[0][0].shape[0] + 2\n",
    "figure = plt.figure(figsize=(ncol + 1, nrow + 1))\n",
    "gs = gridspec.GridSpec(nrow, ncol,\n",
    "                       wspace=1, hspace=0.25,\n",
    "                       top=1. - 0.5 / (nrow + 1), bottom=0.5 / (nrow + 1),\n",
    "                       left=0.5 / (ncol + 1), right=1 - 0.5 / (ncol + 1))"
   ]
  },
  {
   "cell_type": "code",
   "execution_count": 33,
   "metadata": {},
   "outputs": [],
   "source": [
    "# draw image on canvas\n",
    "def visual_add(image, i_subj, i_image, gs, image_id=None):\n",
    "    i_col = i_image\n",
    "    i_row = i_subj\n",
    "\n",
    "    # plot image\n",
    "    ax = plt.subplot(gs[i_row, i_col])\n",
    "    if image_id is not None: ax.set_title(image_id, fontdict={'fontsize': 10})\n",
    "    plt.imshow(-image.T)\n",
    "    plt.set_cmap('Greys')\n",
    "    plt.axis('off')"
   ]
  },
  {
   "cell_type": "code",
   "execution_count": 41,
   "metadata": {
    "pycharm": {
     "name": "#%%\n"
    }
   },
   "outputs": [
    {
     "data": {
      "image/png": "[encoded data removed]",
      "text/plain": [
       "<Figure size 432x288 with 320 Axes>"
      ]
     },
     "metadata": {
      "needs_background": "light"
     },
     "output_type": "display_data"
    }
   ],
   "source": [
    "slices_in, slices_out = list[0]\n",
    "i_slice = 0\n",
    "for i_slice, slice in enumerate(slices_in):\n",
    "    i_image = 0\n",
    "    \n",
    "    for channel in range(slice.shape[0]):\n",
    "        visual_add(slice[channel], i_slice, i_image, gs, '')\n",
    "        i_image += 1\n",
    "        \n",
    "    visual_add(slices_out[i_slice, 0], i_slice, i_image, gs, '')\n",
    "\n",
    "import os\n",
    "\n",
    "data_dir = '/Users/julian/temp'\n",
    "plt.ioff()\n",
    "plt.switch_backend('agg')\n",
    "figure_path = os.path.join(data_dir, 'dataloader_visualisation.svg')\n",
    "figure.savefig(figure_path, dpi='figure', format='svg')\n",
    "plt.close(figure)"
   ]
  },
  {
   "cell_type": "code",
   "execution_count": null,
   "outputs": [],
   "source": [],
   "metadata": {
    "collapsed": false,
    "pycharm": {
     "name": "#%%\n"
    }
   }
  },
  {
   "cell_type": "code",
   "execution_count": null,
   "outputs": [],
   "source": [
    "list[0][1].shape"
   ],
   "metadata": {
    "collapsed": false,
    "pycharm": {
     "name": "#%%\n"
    }
   }
  }
 ],
 "metadata": {
  "kernelspec": {
   "display_name": "Python 3",
   "language": "python",
   "name": "python3"
  },
  "language_info": {
   "codemirror_mode": {
    "name": "ipython",
    "version": 3
   },
   "file_extension": ".py",
   "mimetype": "text/x-python",
   "name": "python",
   "nbconvert_exporter": "python",
   "pygments_lexer": "ipython3",
   "version": "3.7.3"
  },
  "pycharm": {
   "stem_cell": {
    "cell_type": "raw",
    "source": [],
    "metadata": {
     "collapsed": false
    }
   }
  }
 },
 "nbformat": 4,
 "nbformat_minor": 1
}